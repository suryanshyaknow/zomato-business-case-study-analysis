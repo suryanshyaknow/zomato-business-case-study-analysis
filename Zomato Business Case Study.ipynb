{
 "cells": [
  {
   "cell_type": "markdown",
   "id": "1676477f",
   "metadata": {},
   "source": [
    "### Problem Statement:"
   ]
  },
  {
   "cell_type": "markdown",
   "id": "a83c3d55",
   "metadata": {},
   "source": [
    "Let’s say you work for Zomato which has just launched the “Zomato Wallet” in a new city. Looking at weekly metrics, you see a slow decrease in the average number of repeat orders per user from January to March in this city.\n",
    "The company has been consistently growing new users in the city from January to March.\n",
    "What are some reasons why the average number of repeat orders per user would be decreasing and what metrics would you look into?\n",
    "To restrict this decline, what’s the first change that you would make to the app & why?"
   ]
  },
  {
   "cell_type": "markdown",
   "id": "82c3255e",
   "metadata": {},
   "source": [
    "## Analysis:"
   ]
  },
  {
   "attachments": {},
   "cell_type": "markdown",
   "id": "1db0c415",
   "metadata": {},
   "source": [
    "I'd prefer to go with a structural approach."
   ]
  },
  {
   "cell_type": "markdown",
   "id": "edfeb7a3",
   "metadata": {},
   "source": [
    "### Step 1. \n",
    "The very first step of mine would've been to gather data on `Zomato wallet Usage`, more importantly, have a feature indicating the number of repeat orders per user. Since I don't have the data and I am allowed to make any assumptions, so here they are:\n",
    "\n",
    "**i.** The very first notion that hits me is the presence of a competitor, say **Swiggy** that had already established its wallet usage in the same region for a long time. Quite evidently, it'd be hard for Zomato to beat that overnight, and it might need an entirely different strategy than it'd need, had it been the pioneer of the wallet in that certain region.\n",
    "\n",
    "\n",
    "**ii.** My follow-up assumption would be quite obvious. It's very tempting to assume that with the launch of its wallet, coming along would also be a new UI. Considering the excelling past of Zomato, the customer could've been used to the old UI and would face difficulties operating the new one.\n",
    "\n",
    "Speaking from personal experience, earlier Zomato used to give a kind of tab of older orders along with a functionality of reordering them from the home page itself, indicating a smoother overall experience. A new UI might not provide users with the same comfort.\n",
    "\n",
    "**iii.** Another viable assumption can be made on the basis of the age criteria of people living in the considered city.\n",
    "\n",
    "- Say, for example, the new city has more proportion of elderly people who might not be acquainted as well as younger ones with the wallet usage. And hence the decrease in the number of repeat orders.\n",
    "\n",
    "\n",
    "- And say if the proportion of college students is higher, they might look for other alternatives which also provide some % off on older orders, thus the decrease in the number of repeat orders.\n",
    "\n",
    "As such, we can determine the proportion by clustering the users and take action accordingly."
   ]
  },
  {
   "cell_type": "markdown",
   "id": "d0c37ac4",
   "metadata": {},
   "source": [
    "### Step 2. \n",
    "Next, I'd derive KPIs -- to measure the performance of the Wallet -- from the aforementioned assumptions.\n",
    "\n",
    "Viable **KPIs** for the assumptions that I made:\n",
    "\n",
    "   - **`Frequency of Transactions`**<br>Measures the number of transactions made using Swiggy's and Zomato's wallet during a given period of time. And as such lower frequencies for Zomato would suggest users' bias towards Swiggy's wallet.<br>Having said that, it's unlikely that Swiggy would share its data with us. Thus, Zomato would need to rely on its own data.<br><br>\n",
    "   \n",
    "   - **`Average Time Spent on Orders using Wallet (for complete orders)`**<br>If the average time spent on a complete order turns out more for the one placed with wallet than the one placed without it (in the past), it's unlikely that users will adhere to wallet in future.<br><br>\n",
    "   \n",
    "   - **`Average Time Spent on Orders using Wallet (for incomplete orders)`**<br>This is kinda a decision-oriented KPI. By evaluating the average time spent on an incomplete order, we can directly gain insights into the efficiency and ease of use of the wallet for the users. If it turns out less, then it's likely that the user discarded the transaction due to some technical bug preventing them from making the transaction, and if it's high, then we can make the inference that the user tried their all and at last frustratingly abandoned the transaction. Accordingly, a direct decision can be made from here without any further analyses.<br><br>\n",
    "   \n",
    "   - **`Customer Churn Rate`**<br>Measures the % of customers who have stopped using Zomato's services altogether. A high churn rate would imply that customers are not at all at ease with using the wallet.<br><br>\n",
    "   \n",
    "   - **`Sentiment Analysis of User Reviews`**<br>This is kind of too obvious. By doing sentiment analysis user review specifically related to the wallet feature, we can head on gain insights into the user's mind and pinpoint areas that'd need improvement."
   ]
  },
  {
   "cell_type": "markdown",
   "id": "8c6887b8",
   "metadata": {},
   "source": [
    "### Step 3. \n",
    "My initial assumptions were not backed by data and statistical evidence. However, now comes the time to brainstorm some statistical hypotheses to determine if they are supported by data. This'd help identify key factors that are impacting the number of repeat orders."
   ]
  },
  {
   "cell_type": "markdown",
   "id": "517299e9",
   "metadata": {},
   "source": [
    "### Statistical Hypothesis i\n",
    "\n",
    "**Null Hypothesis:** The decrease in the average number of repeat orders is NOT due to the **presence of competitor**. It's purely random.\n",
    "\n",
    "**Alternate Hypothesis:** The average number of repeat orders decrease is due to the **presence of competitor**.\n",
    "\n",
    "**=>** I'd approach this hypothesis by conducting a survey to gauge the level of competition and assess its impact on Zomato's wallet. Having said that, I won't rely too much on the surveys and would evaluate the KPIs -- **Frequency of Transactions** and **Customer Churn Rate**.\n",
    "\n",
    "Also, we can gain some invaluable insights by sentiment analysis of specific users' reviews (containing keywords **wallet**) using NLP techniques."
   ]
  },
  {
   "cell_type": "markdown",
   "id": "b0da5f2c",
   "metadata": {},
   "source": [
    "### Statistical Hypotheses ii\n",
    "\n",
    "**Null Hypothesis:** The average number of repeat orders decrease is purely random.\n",
    "\n",
    "**Alternate Hypothesis:** The decrease in the average number of repeat orders is due to a **new UI**.\n",
    "\n",
    "**=>** We can test the credence of this hypothesis via A/B testing by randomly subdividing a sample into two groups in a manner that one group sees the old UI and the other the sees current one."
   ]
  },
  {
   "cell_type": "markdown",
   "id": "f7643056",
   "metadata": {},
   "source": [
    "### Statistical Hypotheses iii\n",
    "\n",
    "**Null Hypothesis:** Any decrease in the average number of repeat orders is purely random. There's no significant difference in the average number of repeat orders between customers who recieve incentives and who do not. \n",
    "\n",
    "**Alternate Hypothesis:** The decrease in the average number of repeat orders is due to Zomato not providing any/enough incentives on repeat orders or competitors providing better incentives comparatively.\n",
    "\n",
    "**=>** To gauge the impact of incentives, I'd conduct experiments where I'd offer different incentives to customers. For example, I can offer discounts or cashback on repeat orders and see how it impacts customer behaviour."
   ]
  },
  {
   "cell_type": "markdown",
   "id": "24f350be",
   "metadata": {},
   "source": [
    "### Step 4.\n",
    "\n",
    "**So from here on, I'd collect relevant data to confirm the credence of each hypothesis that I've come up with, draw up conclusions and then accordingly narrow out the problem and work towards its obliteration.**"
   ]
  },
  {
   "cell_type": "markdown",
   "id": "aa4522ff",
   "metadata": {},
   "source": [
    "### # Other potential effective ways would include:\n",
    "\n",
    "- Integration of a chatbot to guide users on how to operate the wallet. This can potentially enhance the user experience by providing real-time assistance to users, leading to increased usage and adoption of the wallet feature.<br><br>\n",
    "\n",
    "\n",
    "- Zomato could also implement a strategy that involves giving a scratch card (supposedly leading to lotteries and stuff) with each repeat order. Subsequently, customers would have an additional reason to reorder items.<br><br>However, there would be costs associated with implementing this strategy, such as the cost of the prizes and the development of the scratch cards.<br><br>\n",
    "\n",
    "\n",
    "- Or Zomato could introduce a point-based reward system that rewards users with a certain % off on repeat orders. Once they accumulate a certain number of points, they could be eligible for a discount on their next order or a free meal. This system could encourage users to not only continue using Zomato but also to order more frequently in order to earn more points."
   ]
  }
 ],
 "metadata": {
  "kernelspec": {
   "display_name": "Python 3",
   "language": "python",
   "name": "python3"
  },
  "language_info": {
   "codemirror_mode": {
    "name": "ipython",
    "version": 3
   },
   "file_extension": ".py",
   "mimetype": "text/x-python",
   "name": "python",
   "nbconvert_exporter": "python",
   "pygments_lexer": "ipython3",
   "version": "3.10.9"
  },
  "vscode": {
   "interpreter": {
    "hash": "2a8dfe095fce2b5e88c64a2c3ee084c8e0e0d70b23e7b95b1cfb538be294c5c8"
   }
  }
 },
 "nbformat": 4,
 "nbformat_minor": 5
}
